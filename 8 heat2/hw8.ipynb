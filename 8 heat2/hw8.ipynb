{
 "cells": [
  {
   "cell_type": "code",
   "execution_count": 1,
   "metadata": {},
   "outputs": [],
   "source": [
    "import numpy as np\n",
    "import matplotlib.pyplot as plt\n",
    "# from mpl_toolkits.mplot3d import Axes3D\n",
    "# from matplotlib import cm\n",
    "\n",
    "# %matplotlib osx"
   ]
  },
  {
   "cell_type": "code",
   "execution_count": 2,
   "metadata": {},
   "outputs": [],
   "source": [
    "def heatEqn(C, arr, i):\n",
    "    return (C * (arr[i+1] - 2 *arr[i] + arr[i-1])) + arr[i]"
   ]
  },
  {
   "cell_type": "code",
   "execution_count": 3,
   "metadata": {},
   "outputs": [],
   "source": [
    "def dike(C, deltat, arr, timeInSeconds):\n",
    "    numIterations = timeInSeconds // deltat\n",
    "    TNew = np.copy(arr)\n",
    "    for iteration in range(numIterations):\n",
    "        TOld = np.copy(TNew)\n",
    "        for i in range(1, len(TNew) - 1):\n",
    "            TNew[i] = heatEqn(C, TOld, i)\n",
    "    return TNew[len(TNew) // 2]"
   ]
  },
  {
   "cell_type": "code",
   "execution_count": 4,
   "metadata": {},
   "outputs": [],
   "source": [
    "def printTable(C, deltat, arr):\n",
    "    hour = dike(C, deltat, arr, hourInS)\n",
    "    day = dike(C, deltat, arr, dayInS)\n",
    "    week = dike(C, deltat, arr, weekInS)\n",
    "    month = dike(C, deltat, arr, monthInS)\n",
    "    year = dike(C, deltat, arr, yearInS)\n",
    "    print(\"hour: \" + str(hour)  + \"\\n day: \" + str(day))\n",
    "    print(\"week: \" + str(week)  + \"\\n month: \" + str(month) + \"\\n year: \" + str(year))"
   ]
  },
  {
   "cell_type": "code",
   "execution_count": 5,
   "metadata": {},
   "outputs": [],
   "source": [
    "hourInS = 3600\n",
    "dayInS = hourInS * 24\n",
    "weekInS = dayInS * 7\n",
    "monthInS = dayInS * 31\n",
    "yearInS = monthInS * 12"
   ]
  },
  {
   "cell_type": "code",
   "execution_count": 6,
   "metadata": {},
   "outputs": [],
   "source": [
    "N = 50\n",
    "T = np.zeros([5 * N + 1])\n",
    "\n",
    "lavaTC = 1300\n",
    "#lavaT = lavaTC + 273.15\n",
    "\n",
    "leftDike = (len(T) // 2) - 25\n",
    "rightDike = (len(T) // 2) + 25 + 1\n",
    "T[leftDike:rightDike] = lavaTC"
   ]
  },
  {
   "cell_type": "code",
   "execution_count": 7,
   "metadata": {},
   "outputs": [],
   "source": [
    "deltat = 4620\n",
    "kappa = 0.032 # heat conductance\n",
    "deltaX = 10 # 500 * 5 / 250\n",
    "c = 1.12 # heat capacity\n",
    "rho = 2.65 # density\n",
    "eta = deltat * kappa / (deltaX ** 2)\n",
    "# C = eta / (c * rho)\n",
    "C = (deltat * kappa) / ((deltaX ** 2) * c * rho)\n",
    "\n",
    "k = kappa / (c * rho)"
   ]
  },
  {
   "cell_type": "markdown",
   "metadata": {},
   "source": [
    "What unit of length do you use in your code? cm\n",
    "\n",
    "What unit of time do you use? seconds\n",
    "\n",
    "What is the coefficient k (see lecture 11)? Specify value and units: heat conductance, 0.032 J/cm/s/K\n",
    "\n",
    "What is you grid spacing deltax? 25 meters / 250 so 0.1 m or 10 cm \n",
    "\n",
    "What is your time step deltat? 4620 seconds or 77 mins (should be on the order of minutes)\n",
    "\n",
    "Work out the coefficient eta (see lecture 11)? eta is 0.4992  \n"
   ]
  },
  {
   "cell_type": "code",
   "execution_count": 8,
   "metadata": {
    "scrolled": true
   },
   "outputs": [
    {
     "name": "stdout",
     "output_type": "stream",
     "text": [
      "hour: 1300.0\n",
      " day: 1300.0\n",
      "week: 1266.3499983575875\n",
      " month: 925.1750520923002\n",
      " year: 304.9442256900808\n"
     ]
    }
   ],
   "source": [
    "printTable(C, deltat, T)"
   ]
  },
  {
   "cell_type": "code",
   "execution_count": 9,
   "metadata": {},
   "outputs": [
    {
     "data": {
      "text/plain": [
       "array([   0.,    0.,    0.,    0.,    0.,    0.,    0.,    0.,    0.,\n",
       "          0.,    0.,    0.,    0.,    0.,    0.,    0.,    0.,    0.,\n",
       "          0.,    0.,    0.,    0.,    0.,    0.,    0.,    0.,    0.,\n",
       "          0.,    0.,    0.,    0.,    0.,    0.,    0.,    0.,    0.,\n",
       "          0.,    0.,    0.,    0.,    0.,    0.,    0.,    0.,    0.,\n",
       "          0.,    0.,    0.,    0.,    0.,    0.,    0.,    0.,    0.,\n",
       "          0.,    0.,    0.,    0.,    0.,    0.,    0.,    0.,    0.,\n",
       "          0.,    0.,    0.,    0.,    0.,    0.,    0.,    0.,    0.,\n",
       "          0.,    0.,    0.,    0.,    0.,    0.,    0.,    0.,    0.,\n",
       "          0.,    0.,    0.,    0.,    0.,    0.,    0.,    0.,    0.,\n",
       "          0.,    0.,    0.,    0.,    0.,    0.,    0.,    0.,    0.,\n",
       "          0., 1300., 1300., 1300., 1300., 1300., 1300., 1300., 1300.,\n",
       "       1300., 1300., 1300., 1300., 1300., 1300., 1300., 1300., 1300.,\n",
       "       1300., 1300., 1300., 1300., 1300., 1300., 1300., 1300., 1300.,\n",
       "       1300., 1300., 1300., 1300., 1300., 1300., 1300., 1300., 1300.,\n",
       "       1300., 1300., 1300., 1300., 1300., 1300., 1300., 1300., 1300.,\n",
       "       1300., 1300., 1300., 1300., 1300., 1300., 1300.,    0.,    0.,\n",
       "          0.,    0.,    0.,    0.,    0.,    0.,    0.,    0.,    0.,\n",
       "          0.,    0.,    0.,    0.,    0.,    0.,    0.,    0.,    0.,\n",
       "          0.,    0.,    0.,    0.,    0.,    0.,    0.,    0.,    0.,\n",
       "          0.,    0.,    0.,    0.,    0.,    0.,    0.,    0.,    0.,\n",
       "          0.,    0.,    0.,    0.,    0.,    0.,    0.,    0.,    0.,\n",
       "          0.,    0.,    0.,    0.,    0.,    0.,    0.,    0.,    0.,\n",
       "          0.,    0.,    0.,    0.,    0.,    0.,    0.,    0.,    0.,\n",
       "          0.,    0.,    0.,    0.,    0.,    0.,    0.,    0.,    0.,\n",
       "          0.,    0.,    0.,    0.,    0.,    0.,    0.,    0.,    0.,\n",
       "          0.,    0.,    0.,    0.,    0.,    0.,    0.,    0.,    0.,\n",
       "          0.,    0.,    0.,    0.,    0.,    0.,    0.,    0.])"
      ]
     },
     "execution_count": 9,
     "metadata": {},
     "output_type": "execute_result"
    }
   ],
   "source": [
    "T"
   ]
  },
  {
   "cell_type": "code",
   "execution_count": 9,
   "metadata": {
    "scrolled": true
   },
   "outputs": [
    {
     "data": {
      "image/png": "[encoded data removed]",
      "text/plain": [
       "<Figure size 432x288 with 1 Axes>"
      ]
     },
     "metadata": {
      "needs_background": "light"
     },
     "output_type": "display_data"
    }
   ],
   "source": [
    "plt.plot(np.linspace(0, 2500, 251), T)\n",
    "plt.show()"
   ]
  },
  {
   "cell_type": "markdown",
   "metadata": {},
   "source": [
    "## (2)"
   ]
  },
  {
   "cell_type": "code",
   "execution_count": 10,
   "metadata": {},
   "outputs": [],
   "source": [
    "# my eta is approximately equal based on this function\n",
    "\n",
    "def findDeltatX(arr, N):\n",
    "    d = 500\n",
    "    L = (4 * d) + (N * 10)\n",
    "    deltaX = L // (len(arr) - 1)\n",
    "    kappa = 0.032\n",
    "    c = 1.12 # heat capacity\n",
    "    rho = 2.65 # density\n",
    "    \n",
    "    bestDeltat = 60\n",
    "    while (bestDeltat * kappa) / ((deltaX ** 2) * c * rho) < 0.5:\n",
    "        bestDeltat += 60\n",
    "    return bestDeltat - 60, deltaX"
   ]
  },
  {
   "cell_type": "code",
   "execution_count": 11,
   "metadata": {},
   "outputs": [
    {
     "name": "stdout",
     "output_type": "stream",
     "text": [
      "hour: 1300.0\n",
      " day: 1300.0\n",
      "week: 1299.9914938304778\n",
      " month: 1253.894397392952\n",
      " year: 589.1649695029041\n"
     ]
    }
   ],
   "source": [
    "# adjust N\n",
    "N = 100\n",
    "T2 = np.zeros([50 + 50 + N + 50 + 50 + 1])\n",
    "deltat, deltaX = findDeltatX(T2, N)\n",
    "\n",
    "eta = deltat * kappa /(deltaX ** 2)\n",
    "C2 = eta / (c * rho)\n",
    "\n",
    "\n",
    "leftDike = (len(T2) // 2) - (N//2)\n",
    "rightDike = (len(T2) // 2) + (N//2) + 1\n",
    "T2[leftDike:rightDike] = lavaTC\n",
    "printTable(C2, deltat, T2)"
   ]
  },
  {
   "cell_type": "code",
   "execution_count": 12,
   "metadata": {},
   "outputs": [
    {
     "data": {
      "image/png": "[encoded data removed]",
      "text/plain": [
       "<Figure size 432x288 with 1 Axes>"
      ]
     },
     "metadata": {
      "needs_background": "light"
     },
     "output_type": "display_data"
    }
   ],
   "source": [
    "plt.plot(T2)\n",
    "plt.show()"
   ]
  },
  {
   "cell_type": "markdown",
   "metadata": {},
   "source": [
    "##### I used N = 150. If N increases by a factor of 2, then 4 times more calculations are done"
   ]
  },
  {
   "cell_type": "code",
   "execution_count": 13,
   "metadata": {},
   "outputs": [
    {
     "name": "stdout",
     "output_type": "stream",
     "text": [
      "hour: 1300.0\n",
      " day: 1300.0\n",
      "week: 1266.3499983575875\n",
      " month: 925.1750520923002\n",
      " year: 312.7088136721028\n"
     ]
    }
   ],
   "source": [
    "# adjust N\n",
    "N = 150\n",
    "\n",
    "T2 = np.zeros([50 + 50 + N + 50 + 50 + 1])\n",
    "deltat, deltaX = findDeltatX(T2, N)\n",
    "\n",
    "eta = deltat * kappa /(deltaX ** 2)\n",
    "C2 = eta / (c * rho)\n",
    "\n",
    "leftDike = (len(T2) // 2) - 25\n",
    "rightDike = (len(T2) // 2) + 25 + 1\n",
    "T2[leftDike:rightDike] = lavaTC\n",
    "\n",
    "printTable(C2, deltat, T2)"
   ]
  },
  {
   "cell_type": "code",
   "execution_count": 14,
   "metadata": {},
   "outputs": [
    {
     "name": "stdout",
     "output_type": "stream",
     "text": [
      "hour: 1300.0\n",
      " day: 1300.0\n",
      "week: 1266.3499983575875\n",
      " month: 925.1750520923002\n",
      " year: 312.8177357537023\n"
     ]
    }
   ],
   "source": [
    "# adjust N\n",
    "N = 200\n",
    "\n",
    "T2 = np.zeros([50 + 50 + N + 50 + 50 + 1])\n",
    "deltat, deltaX = findDeltatX(T2, N)\n",
    "\n",
    "eta = deltat * kappa /(deltaX ** 2)\n",
    "C2 = eta / (c * rho)\n",
    "\n",
    "leftDike = (len(T2) // 2) - 25\n",
    "rightDike = (len(T2) // 2) + 25 + 1\n",
    "T2[leftDike:rightDike] = lavaTC\n",
    "\n",
    "printTable(C2, deltat, T2)"
   ]
  },
  {
   "cell_type": "markdown",
   "metadata": {},
   "source": [
    "## (3)"
   ]
  },
  {
   "cell_type": "code",
   "execution_count": 15,
   "metadata": {},
   "outputs": [],
   "source": [
    "def findDeltatX(arr, N, f):\n",
    "    d = 500\n",
    "    L = (f * d * 2) + (N * 10)\n",
    "    deltaX = L // (len(arr) - 1)\n",
    "    kappa = 0.032\n",
    "    c = 1.12 # heat capacity\n",
    "    rho = 2.65 # density\n",
    "    \n",
    "    bestDeltat = 60\n",
    "    while (bestDeltat * kappa) / ((deltaX ** 2) * c * rho) < 0.5:\n",
    "        bestDeltat += 60\n",
    "    return bestDeltat - 60, deltaX"
   ]
  },
  {
   "cell_type": "code",
   "execution_count": 16,
   "metadata": {},
   "outputs": [
    {
     "name": "stdout",
     "output_type": "stream",
     "text": [
      "hour: 1300.0\n",
      " day: 1300.0\n",
      "week: 1266.3499983575875\n",
      " month: 925.1750520923002\n",
      " year: 304.9442256900808\n"
     ]
    }
   ],
   "source": [
    "N = 50\n",
    "T3 = np.zeros([5 * N + 1])\n",
    "\n",
    "lavaTC = 1300\n",
    "\n",
    "deltat, deltaX = findDeltatX(T3, N, 2)\n",
    "\n",
    "C3 = (deltat * kappa) / ((deltaX ** 2) * c * rho)\n",
    "\n",
    "leftDike = (len(T3) // 2) - 25\n",
    "rightDike = (len(T3) // 2) + 25 + 1\n",
    "T3[leftDike:rightDike] = lavaTC\n",
    "\n",
    "printTable(C3, deltat, T3)"
   ]
  },
  {
   "cell_type": "code",
   "execution_count": 17,
   "metadata": {},
   "outputs": [
    {
     "name": "stdout",
     "output_type": "stream",
     "text": [
      "hour: 1300.0\n",
      " day: 1300.0\n",
      "week: 1266.3499983575875\n",
      " month: 925.1750520923002\n",
      " year: 312.8257436668626\n"
     ]
    }
   ],
   "source": [
    "N = 50\n",
    "T3 = np.zeros([9 * N + 1])\n",
    "\n",
    "lavaTC = 1300\n",
    "\n",
    "deltat, deltaX = findDeltatX(T3, N, 4)\n",
    "\n",
    "C3 = (deltat * kappa) / ((deltaX ** 2) * c * rho)\n",
    "\n",
    "leftDike = (len(T3) // 2) - 25\n",
    "rightDike = (len(T3) // 2) + 25 + 1\n",
    "T3[leftDike:rightDike] = lavaTC\n",
    "\n",
    "printTable(C3, deltat, T3)"
   ]
  },
  {
   "cell_type": "code",
   "execution_count": 18,
   "metadata": {},
   "outputs": [],
   "source": [
    "THeat = T3\n",
    "CHeat = C3\n",
    "deltatHeat = deltat"
   ]
  },
  {
   "cell_type": "code",
   "execution_count": 19,
   "metadata": {},
   "outputs": [
    {
     "name": "stdout",
     "output_type": "stream",
     "text": [
      "hour: 1300.0\n",
      " day: 1300.0\n",
      "week: 1266.3499983575875\n",
      " month: 925.1750520923002\n",
      " year: 312.8261689408788\n"
     ]
    }
   ],
   "source": [
    "N = 50\n",
    "T3 = np.zeros([13 * N + 1])\n",
    "\n",
    "deltat, deltaX = findDeltatX(T3, N, 6)\n",
    "\n",
    "C3 = (deltat * kappa) / ((deltaX ** 2) * c * rho)\n",
    "\n",
    "leftDike = (len(T3) // 2) - 25\n",
    "rightDike = (len(T3) // 2) + 25 + 1\n",
    "T3[leftDike:rightDike] = lavaTC\n",
    "\n",
    "printTable(C3, deltat, T3)"
   ]
  },
  {
   "cell_type": "code",
   "execution_count": 20,
   "metadata": {},
   "outputs": [
    {
     "name": "stdout",
     "output_type": "stream",
     "text": [
      "hour: 1300.0\n",
      " day: 1300.0\n",
      "week: 1266.3499983575875\n",
      " month: 925.1750520923002\n",
      " year: 312.82616894095685\n"
     ]
    }
   ],
   "source": [
    "N = 50\n",
    "T3 = np.zeros([17 * N + 1])\n",
    "\n",
    "deltat, deltaX = findDeltatX(T3, N, 8)\n",
    "\n",
    "C3 = (deltat * kappa) / ((deltaX ** 2) * c * rho)\n",
    "\n",
    "leftDike = (len(T3) // 2) - 25\n",
    "rightDike = (len(T3) // 2) + 25 + 1\n",
    "T3[leftDike:rightDike] = lavaTC\n",
    "\n",
    "printTable(C3, deltat, T3)"
   ]
  },
  {
   "cell_type": "code",
   "execution_count": 21,
   "metadata": {},
   "outputs": [
    {
     "data": {
      "text/plain": [
       "66300.0"
      ]
     },
     "execution_count": 21,
     "metadata": {},
     "output_type": "execute_result"
    }
   ],
   "source": [
    "sum(T3[leftDike:rightDike])"
   ]
  },
  {
   "cell_type": "markdown",
   "metadata": {},
   "source": [
    "## (4)"
   ]
  },
  {
   "cell_type": "code",
   "execution_count": 22,
   "metadata": {},
   "outputs": [],
   "source": [
    "def dikeHeat(C, deltat, arr, timeInSeconds):\n",
    "    numIterations = timeInSeconds // deltat\n",
    "    TNew = np.copy(arr)\n",
    "    \n",
    "    leftDike = (len(arr) // 2) - 25\n",
    "    rightDike = (len(arr) // 2) + 25 + 1\n",
    "    initialQ = sum(TNew)\n",
    "    for iteration in range(numIterations):\n",
    "        TOld = np.copy(TNew)\n",
    "        for i in range(1, len(TNew) - 1):\n",
    "            TNew[i] = heatEqn(C, TOld, i)\n",
    "    finalQ = sum(TNew[leftDike:rightDike])\n",
    "    return (initialQ - finalQ) / initialQ\n",
    "\n",
    "def printHeatLoss(C, deltat, arr):\n",
    "    hour = dikeHeat(C, deltat, arr, hourInS)\n",
    "    day = dikeHeat(C, deltat, arr, dayInS)\n",
    "    week = dikeHeat(C, deltat, arr, weekInS)\n",
    "    month = dikeHeat(C, deltat, arr, monthInS)\n",
    "    year = dikeHeat(C, deltat, arr, yearInS)\n",
    "    \n",
    "    print(\"Heat loss:\")\n",
    "    print(\"hour: \" + str(hour)  + \"\\n day: \" + str(day))\n",
    "    print(\"week: \" + str(week)  + \"\\n month: \" + str(month) + \"\\n year: \" + str(year))"
   ]
  },
  {
   "cell_type": "code",
   "execution_count": 23,
   "metadata": {},
   "outputs": [
    {
     "name": "stdout",
     "output_type": "stream",
     "text": [
      "Heat loss:\n",
      "hour: 0.0\n",
      " day: 0.06545214390505774\n",
      "week: 0.1779127829088064\n",
      " month: 0.3700601963745675\n",
      " year: 0.7629610753297259\n"
     ]
    }
   ],
   "source": [
    "printHeatLoss(CHeat, deltatHeat, THeat)"
   ]
  },
  {
   "cell_type": "code",
   "execution_count": null,
   "metadata": {},
   "outputs": [],
   "source": []
  }
 ],
 "metadata": {
  "kernelspec": {
   "display_name": "Python 3",
   "language": "python",
   "name": "python3"
  },
  "language_info": {
   "codemirror_mode": {
    "name": "ipython",
    "version": 3
   },
   "file_extension": ".py",
   "mimetype": "text/x-python",
   "name": "python",
   "nbconvert_exporter": "python",
   "pygments_lexer": "ipython3",
   "version": "3.7.6"
  }
 },
 "nbformat": 4,
 "nbformat_minor": 4
}
