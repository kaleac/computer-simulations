{
 "cells": [
  {
   "cell_type": "code",
   "execution_count": 11,
   "metadata": {},
   "outputs": [],
   "source": [
    "def TransformIntoPlanetFrame(xp,yp,x,y):\n",
    "    phi = np.arctan2(yp,xp)\n",
    "    s = np.sin(phi)\n",
    "    c = np.cos(phi)\n",
    "\n",
    "    A = np.array( [ [c,s] , [-s,c] ] )\n",
    "\n",
    "    r  = np.array([x,y])\n",
    "    rt = A.dot(r) # matrix vector multiplication\n",
    "\n",
    "    xt = rt[0]\n",
    "    yt = rt[1]\n",
    "    \n",
    "    return [xt,yt] #return the transformed coordinates"
   ]
  }
 ],
 "metadata": {
  "kernelspec": {
   "display_name": "Python 3",
   "language": "python",
   "name": "python3"
  },
  "language_info": {
   "codemirror_mode": {
    "name": "ipython",
    "version": 3
   },
   "file_extension": ".py",
   "mimetype": "text/x-python",
   "name": "python",
   "nbconvert_exporter": "python",
   "pygments_lexer": "ipython3",
   "version": "3.7.6"
  }
 },
 "nbformat": 4,
 "nbformat_minor": 2
}
