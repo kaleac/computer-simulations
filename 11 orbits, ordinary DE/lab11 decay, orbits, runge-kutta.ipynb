{
 "cells": [
  {
   "cell_type": "code",
   "execution_count": 1,
   "metadata": {},
   "outputs": [],
   "source": [
    "import numpy as np\n",
    "import matplotlib.pyplot as plt\n",
    "\n",
    "%matplotlib inline"
   ]
  },
  {
   "cell_type": "code",
   "execution_count": 19,
   "metadata": {},
   "outputs": [],
   "source": [
    "c = 1\n",
    "t = 0\n",
    "k = 0.00012097 \n",
    "dt = 10"
   ]
  },
  {
   "cell_type": "code",
   "execution_count": 20,
   "metadata": {},
   "outputs": [],
   "source": [
    "carbon = []\n",
    "time = []\n",
    "\n",
    "while c >= 0.5:\n",
    "    carbon.append(c)\n",
    "    time.append(t)\n",
    "    c = c - k*c*dt\n",
    "    t = t + dt"
   ]
  },
  {
   "cell_type": "code",
   "execution_count": 22,
   "metadata": {},
   "outputs": [
    {
     "data": {
      "text/plain": [
       "[<matplotlib.lines.Line2D at 0x7fbbf4a2b7d0>]"
      ]
     },
     "execution_count": 22,
     "metadata": {},
     "output_type": "execute_result"
    },
    {
     "data": {
      "image/png": "[encoded data removed]",
      "text/plain": [
       "<Figure size 432x288 with 1 Axes>"
      ]
     },
     "metadata": {
      "needs_background": "light"
     },
     "output_type": "display_data"
    }
   ],
   "source": [
    "plt.plot(time, carbon)"
   ]
  },
  {
   "cell_type": "code",
   "execution_count": 23,
   "metadata": {},
   "outputs": [
    {
     "name": "stdout",
     "output_type": "stream",
     "text": [
      "Carbon half-life: 5720\n"
     ]
    }
   ],
   "source": [
    "print(\"Carbon half-life: \" + str(time[-1]))"
   ]
  },
  {
   "cell_type": "code",
   "execution_count": 67,
   "metadata": {},
   "outputs": [],
   "source": [
    "G = 3 * 10**-6\n",
    "mSun = 10**6\n",
    "dt = 10**-3\n",
    "x=1\n",
    "y=0\n",
    "vx=0\n",
    "vy=2\n",
    "\n",
    "tMax = 10\n",
    "#timeUnit = tMax // dt"
   ]
  },
  {
   "cell_type": "code",
   "execution_count": 68,
   "metadata": {},
   "outputs": [],
   "source": [
    "timeUnit = 0\n",
    "xt = []\n",
    "yt = []\n",
    "\n",
    "while timeUnit <= tMax // dt:\n",
    "    r = (x**2 + y**2) ** 0.5\n",
    "    vxNew = -1 * G * mSun * x * dt / (r**3) + vx\n",
    "    vyNew = -1 * G * mSun * y * dt / (r**3) + vy\n",
    "    x = vx * dt + x\n",
    "    y = vy * dt + y\n",
    "    vx = vxNew\n",
    "    vy = vyNew\n",
    "    \n",
    "    xt.append(x)\n",
    "    yt.append(y)\n",
    "    timeUnit += 1"
   ]
  },
  {
   "cell_type": "code",
   "execution_count": 69,
   "metadata": {},
   "outputs": [
    {
     "data": {
      "image/png": "[encoded data removed]",
      "text/plain": [
       "<Figure size 432x288 with 1 Axes>"
      ]
     },
     "metadata": {
      "needs_background": "light"
     },
     "output_type": "display_data"
    }
   ],
   "source": [
    "plt.plot(xt,yt,'r-')\n",
    "plt.plot(0,0,'*',mfc='w',ms=10)\n",
    "plt.gca().set_aspect('equal', adjustable='box')\n",
    "plt.show()"
   ]
  },
  {
   "cell_type": "code",
   "execution_count": 70,
   "metadata": {},
   "outputs": [
    {
     "data": {
      "text/plain": [
       "-2.045160620225566"
      ]
     },
     "execution_count": 70,
     "metadata": {},
     "output_type": "execute_result"
    }
   ],
   "source": [
    "x"
   ]
  },
  {
   "cell_type": "code",
   "execution_count": null,
   "metadata": {},
   "outputs": [],
   "source": [
    "y = np.array([x, y, vx, vy])"
   ]
  },
  {
   "cell_type": "code",
   "execution_count": 71,
   "metadata": {},
   "outputs": [],
   "source": [
    "mp = 1\n",
    "ms = mSun\n",
    "def KeplerODE(t,y):\n",
    "    global mp,ms,G\n",
    "    r = y[0:2]\n",
    "    v = y[2:4]\n",
    "    drdt = ...\n",
    "    F    = -G * mp * ms * r / (((y[0]**2) + (y[1]**2))**1.5)\n",
    "    a    = F / mp\n",
    "    dvdt = a\n",
    "    return np.concatenate((drdt,dvdt)) "
   ]
  },
  {
   "cell_type": "code",
   "execution_count": null,
   "metadata": {},
   "outputs": [],
   "source": [
    "timeUnit = 0\n",
    "xt = []\n",
    "yt = []\n",
    "\n",
    "while timeUnit <= tMax // dt:\n",
    "    r = (x**2 + y**2) ** 0.5\n",
    "    vxNew = -1 * G * mSun * x * dt / (r**3) + vx\n",
    "    vyNew = -1 * G * mSun * y * dt / (r**3) + vy\n",
    "    x = vx * dt + x\n",
    "    y = vy * dt + y\n",
    "    vx = vxNew\n",
    "    vy = vyNew\n",
    "    \n",
    "    xt.append(x)\n",
    "    yt.append(y)\n",
    "    timeUnit += 1"
   ]
  }
 ],
 "metadata": {
  "kernelspec": {
   "display_name": "Python 3",
   "language": "python",
   "name": "python3"
  },
  "language_info": {
   "codemirror_mode": {
    "name": "ipython",
    "version": 3
   },
   "file_extension": ".py",
   "mimetype": "text/x-python",
   "name": "python",
   "nbconvert_exporter": "python",
   "pygments_lexer": "ipython3",
   "version": "3.7.6"
  }
 },
 "nbformat": 4,
 "nbformat_minor": 4
}
